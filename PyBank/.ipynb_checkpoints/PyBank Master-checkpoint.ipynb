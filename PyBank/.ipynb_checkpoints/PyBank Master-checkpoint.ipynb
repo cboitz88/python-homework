{
 "cells": [
  {
   "cell_type": "code",
   "execution_count": 79,
   "metadata": {},
   "outputs": [
    {
     "name": "stdout",
     "output_type": "stream",
     "text": [
      "       Date  Profit/Losses\n",
      "0  Jan-2010         867884\n",
      "1  Feb-2010         984655\n",
      "2  Mar-2010         322013\n",
      "3  Apr-2010         -69417\n",
      "4  May-2010         310503\n"
     ]
    }
   ],
   "source": [
    "#import libraries\n",
    "import pandas as pd\n",
    "import numpy as np\n",
    "from pathlib import Path\n",
    "\n",
    "\n",
    "#import csv file and define it...\n",
    "file_path = Path(\"C:/Users/boitz/OneDrive/Desktop/budget_data.csv\")\n",
    "budget_data = pd.read_csv(file_path)\n",
    "print(budget_data.head())"
   ]
  },
  {
   "cell_type": "code",
   "execution_count": 80,
   "metadata": {},
   "outputs": [],
   "source": [
    "#define variables\n",
    "num_months=0\n",
    "net_total = 0\n",
    "average = 0\n",
    "greatest_increase = 0\n",
    "greatest_decrease = 0\n",
    "max_profit_time = 0\n",
    "max_loss_time = 0\n"
   ]
  },
  {
   "cell_type": "code",
   "execution_count": 81,
   "metadata": {},
   "outputs": [],
   "source": [
    "#set values for variables\n",
    "num_months = budget_data['Date'].count()\n",
    "net_total = budget_data['Profit/Losses'].sum()\n",
    "average = budget_data['Profit/Losses'].mean()\n",
    "greatest_increase = budget_data['Profit/Losses'].max()\n",
    "greatest_decrease = budget_data['Profit/Losses'].min()"
   ]
  },
  {
   "cell_type": "code",
   "execution_count": 82,
   "metadata": {},
   "outputs": [
    {
     "name": "stdout",
     "output_type": "stream",
     "text": [
      "                Date  Profit/Losses\n",
      "Date                               \n",
      "2010-01-01  Jan-2010         867884\n",
      "2010-02-01  Feb-2010         984655\n",
      "2010-03-01  Mar-2010         322013\n",
      "2010-04-01  Apr-2010         -69417\n",
      "2010-05-01  May-2010         310503\n"
     ]
    }
   ],
   "source": [
    "budget_data.set_index(pd.to_datetime(budget_data['Date'], infer_datetime_format=True), inplace=True)\n",
    "print(budget_data.head())"
   ]
  },
  {
   "cell_type": "code",
   "execution_count": 83,
   "metadata": {},
   "outputs": [
    {
     "name": "stdout",
     "output_type": "stream",
     "text": [
      "Series([], Name: Date, dtype: object)\n"
     ]
    }
   ],
   "source": [
    "new_budget_data = budget_data.iloc[budget_data['Profit/Losses'].max():,0]\n",
    "print(new_budget_data.head())"
   ]
  },
  {
   "cell_type": "code",
   "execution_count": 84,
   "metadata": {},
   "outputs": [],
   "source": [
    "max_profit_time = budget_data['Profit/Losses'].idxmax()\n",
    "max_loss_time = budget_data['Profit/Losses'].idxmin()"
   ]
  },
  {
   "cell_type": "code",
   "execution_count": 85,
   "metadata": {},
   "outputs": [
    {
     "name": "stdout",
     "output_type": "stream",
     "text": [
      "Financial Analysis\n",
      "----------------------------------------------------------------------\n",
      "Total Months : 86\n",
      "Total: $38382578\n",
      "Average Change : $446309\n",
      "Greatest Increase in Profits: 1170593 on 2012-02-01 00:00:00\n",
      "The greatest decrease in losses were -1196225 on 2013-09-01 00:00:00\n"
     ]
    }
   ],
   "source": [
    "print(\"Financial Analysis\")\n",
    "print(\"----------------------------------------------------------------------\")\n",
    "#Produce the statements for report\n",
    "print('Total Months : ' + str(num_months))\n",
    "print('Total: $' + str(net_total))\n",
    "print('Average Change : $'+ (str(round(average))))\n",
    "print('Greatest Increase in Profits: '+ str(greatest_increase)+' on '+str(max_profit_time))\n",
    "print('The greatest decrease in losses were '+ str(greatest_decrease)+' on '+str(max_loss_time))\n",
    "\n"
   ]
  },
  {
   "cell_type": "code",
   "execution_count": null,
   "metadata": {},
   "outputs": [],
   "source": []
  },
  {
   "cell_type": "code",
   "execution_count": null,
   "metadata": {},
   "outputs": [],
   "source": []
  }
 ],
 "metadata": {
  "kernelspec": {
   "display_name": "Python 3",
   "language": "python",
   "name": "python3"
  },
  "language_info": {
   "codemirror_mode": {
    "name": "ipython",
    "version": 3
   },
   "file_extension": ".py",
   "mimetype": "text/x-python",
   "name": "python",
   "nbconvert_exporter": "python",
   "pygments_lexer": "ipython3",
   "version": "3.7.3"
  }
 },
 "nbformat": 4,
 "nbformat_minor": 4
}
